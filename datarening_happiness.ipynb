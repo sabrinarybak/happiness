{
 "cells": [
  {
   "cell_type": "markdown",
   "metadata": {},
   "source": [
    "## 🌍 World Happiness Report 2019 – Datarening\n"
   ]
  },
  {
   "cell_type": "code",
   "execution_count": 8,
   "metadata": {},
   "outputs": [
    {
     "name": "stdout",
     "output_type": "stream",
     "text": [
      "Allt är installerat och fungerar! 😎\n"
     ]
    },
    {
     "data": {
      "text/html": [
       "<div>\n",
       "<style scoped>\n",
       "    .dataframe tbody tr th:only-of-type {\n",
       "        vertical-align: middle;\n",
       "    }\n",
       "\n",
       "    .dataframe tbody tr th {\n",
       "        vertical-align: top;\n",
       "    }\n",
       "\n",
       "    .dataframe thead th {\n",
       "        text-align: right;\n",
       "    }\n",
       "</style>\n",
       "<table border=\"1\" class=\"dataframe\">\n",
       "  <thead>\n",
       "    <tr style=\"text-align: right;\">\n",
       "      <th></th>\n",
       "      <th>Overall rank</th>\n",
       "      <th>Country or region</th>\n",
       "      <th>Score</th>\n",
       "      <th>GDP per capita</th>\n",
       "      <th>Social support</th>\n",
       "      <th>Healthy life expectancy</th>\n",
       "      <th>Freedom to make life choices</th>\n",
       "      <th>Generosity</th>\n",
       "      <th>Perceptions of corruption</th>\n",
       "    </tr>\n",
       "  </thead>\n",
       "  <tbody>\n",
       "    <tr>\n",
       "      <th>0</th>\n",
       "      <td>1</td>\n",
       "      <td>Finland</td>\n",
       "      <td>7.769</td>\n",
       "      <td>1.340</td>\n",
       "      <td>1.587</td>\n",
       "      <td>0.986</td>\n",
       "      <td>0.596</td>\n",
       "      <td>0.153</td>\n",
       "      <td>0.393</td>\n",
       "    </tr>\n",
       "    <tr>\n",
       "      <th>1</th>\n",
       "      <td>2</td>\n",
       "      <td>Denmark</td>\n",
       "      <td>7.600</td>\n",
       "      <td>1.383</td>\n",
       "      <td>1.573</td>\n",
       "      <td>0.996</td>\n",
       "      <td>0.592</td>\n",
       "      <td>0.252</td>\n",
       "      <td>0.410</td>\n",
       "    </tr>\n",
       "    <tr>\n",
       "      <th>2</th>\n",
       "      <td>3</td>\n",
       "      <td>Norway</td>\n",
       "      <td>7.554</td>\n",
       "      <td>1.488</td>\n",
       "      <td>1.582</td>\n",
       "      <td>1.028</td>\n",
       "      <td>0.603</td>\n",
       "      <td>0.271</td>\n",
       "      <td>0.341</td>\n",
       "    </tr>\n",
       "    <tr>\n",
       "      <th>3</th>\n",
       "      <td>4</td>\n",
       "      <td>Iceland</td>\n",
       "      <td>7.494</td>\n",
       "      <td>1.380</td>\n",
       "      <td>1.624</td>\n",
       "      <td>1.026</td>\n",
       "      <td>0.591</td>\n",
       "      <td>0.354</td>\n",
       "      <td>0.118</td>\n",
       "    </tr>\n",
       "    <tr>\n",
       "      <th>4</th>\n",
       "      <td>5</td>\n",
       "      <td>Netherlands</td>\n",
       "      <td>7.488</td>\n",
       "      <td>1.396</td>\n",
       "      <td>1.522</td>\n",
       "      <td>0.999</td>\n",
       "      <td>0.557</td>\n",
       "      <td>0.322</td>\n",
       "      <td>0.298</td>\n",
       "    </tr>\n",
       "  </tbody>\n",
       "</table>\n",
       "</div>"
      ],
      "text/plain": [
       "   Overall rank Country or region  Score  GDP per capita  Social support  \\\n",
       "0             1           Finland  7.769           1.340           1.587   \n",
       "1             2           Denmark  7.600           1.383           1.573   \n",
       "2             3            Norway  7.554           1.488           1.582   \n",
       "3             4           Iceland  7.494           1.380           1.624   \n",
       "4             5       Netherlands  7.488           1.396           1.522   \n",
       "\n",
       "   Healthy life expectancy  Freedom to make life choices  Generosity  \\\n",
       "0                    0.986                         0.596       0.153   \n",
       "1                    0.996                         0.592       0.252   \n",
       "2                    1.028                         0.603       0.271   \n",
       "3                    1.026                         0.591       0.354   \n",
       "4                    0.999                         0.557       0.322   \n",
       "\n",
       "   Perceptions of corruption  \n",
       "0                      0.393  \n",
       "1                      0.410  \n",
       "2                      0.341  \n",
       "3                      0.118  \n",
       "4                      0.298  "
      ]
     },
     "execution_count": 8,
     "metadata": {},
     "output_type": "execute_result"
    }
   ],
   "source": [
    "#Ladda in och visa grunddata\n",
    "\n",
    "import pandas as pd\n",
    "import numpy as np\n",
    "import matplotlib.pyplot as plt\n",
    "import seaborn as sns\n",
    "\n",
    "print(\"Allt är installerat och fungerar! 😎\")\n",
    "\n",
    "\n",
    "# Läs in filen (ersätt med rätt namn om det är annorlunda)\n",
    "df = pd.read_csv(\"data/2019.csv\")\n",
    "\n",
    "# Visa de första raderna\n",
    "df.head()"
   ]
  },
  {
   "cell_type": "markdown",
   "metadata": {},
   "source": [
    "## 🔍 Grundläggande info om datan"
   ]
  },
  {
   "cell_type": "code",
   "execution_count": 9,
   "metadata": {},
   "outputs": [
    {
     "name": "stdout",
     "output_type": "stream",
     "text": [
      "<class 'pandas.core.frame.DataFrame'>\n",
      "RangeIndex: 156 entries, 0 to 155\n",
      "Data columns (total 9 columns):\n",
      " #   Column                        Non-Null Count  Dtype  \n",
      "---  ------                        --------------  -----  \n",
      " 0   Overall rank                  156 non-null    int64  \n",
      " 1   Country or region             156 non-null    object \n",
      " 2   Score                         156 non-null    float64\n",
      " 3   GDP per capita                156 non-null    float64\n",
      " 4   Social support                156 non-null    float64\n",
      " 5   Healthy life expectancy       156 non-null    float64\n",
      " 6   Freedom to make life choices  156 non-null    float64\n",
      " 7   Generosity                    156 non-null    float64\n",
      " 8   Perceptions of corruption     156 non-null    float64\n",
      "dtypes: float64(7), int64(1), object(1)\n",
      "memory usage: 11.1+ KB\n",
      "Saknade värden per kolumn:\n",
      "Series([], dtype: int64)\n"
     ]
    }
   ],
   "source": [
    "## Datalängd, dtypes, NaN-kontroll\n",
    "\n",
    "# Översikt\n",
    "df.info()\n",
    "\n",
    "# Kontrollera saknade värden\n",
    "missing_vals = df.isna().sum()\n",
    "print(\"Saknade värden per kolumn:\")\n",
    "print(missing_vals[missing_vals > 0])"
   ]
  },
  {
   "cell_type": "markdown",
   "metadata": {},
   "source": [
    "## 📌 Cell 5 – Byt kolumnnamn för tydlighet\n",
    "För att förenkla analysen och kodningen byter vi långa kolumnnamn till kortare, mer praktiska namn."
   ]
  },
  {
   "cell_type": "code",
   "execution_count": 10,
   "metadata": {},
   "outputs": [],
   "source": [
    "## 💻 Kodcell – Byt kolumnnamn:\n",
    "\n",
    "df = df.rename(columns={\n",
    "    'Country or region': 'Country',\n",
    "    'Score': 'Happiness',\n",
    "    'GDP per capita': 'GDP',\n",
    "    'Social support': 'SocialSupport',\n",
    "    'Healthy life expectancy': 'Health',\n",
    "    'Freedom to make life choices': 'Freedom',\n",
    "    'Generosity': 'Generosity',\n",
    "    'Perceptions of corruption': 'Corruption',\n",
    "    'Dystopia Residual': 'DystopiaResidual',\n",
    "    'Overall rank': 'Rank'\n",
    "})"
   ]
  },
  {
   "cell_type": "markdown",
   "metadata": {},
   "source": [
    "## 📌 Cell 6 – Ta bort onödiga kolumner (t.ex. 'Whisker.low', 'Whisker.high')\n",
    "Vi fokuserar på huvudvariablerna. Dessa kolumner används inte för analys och tas bort."
   ]
  },
  {
   "cell_type": "code",
   "execution_count": 11,
   "metadata": {},
   "outputs": [],
   "source": [
    "# Kontrollera vilka kolumner du har först\n",
    "df.columns\n",
    "# (Om det finns Whisker.low och Whisker.high, kör då detta:)\n",
    "df = df.drop(columns=['Whisker.high', 'Whisker.low'], errors='ignore')"
   ]
  },
  {
   "cell_type": "markdown",
   "metadata": {},
   "source": [
    "## 📌 Cell 7 – Kontroll av dubbletter\n",
    "Vi kontrollerar om det finns rader med exakt samma värden och tar bort dem."
   ]
  },
  {
   "cell_type": "code",
   "execution_count": 12,
   "metadata": {},
   "outputs": [
    {
     "name": "stdout",
     "output_type": "stream",
     "text": [
      "Antal dubbletter: 0\n"
     ]
    }
   ],
   "source": [
    "print(\"Antal dubbletter:\", df.duplicated().sum())\n",
    "df = df.drop_duplicates()"
   ]
  },
  {
   "cell_type": "markdown",
   "metadata": {},
   "source": [
    " ## 📌 Cell 8 – Saknade värden\n",
    "Vi kontrollerar vilka rader som saknar värden i någon av huvudkolumnerna och tar bort dem."
   ]
  },
  {
   "cell_type": "code",
   "execution_count": 13,
   "metadata": {},
   "outputs": [
    {
     "name": "stdout",
     "output_type": "stream",
     "text": [
      "Saknade värden per kolumn:\n",
      " Rank             0\n",
      "Country          0\n",
      "Happiness        0\n",
      "GDP              0\n",
      "SocialSupport    0\n",
      "Health           0\n",
      "Freedom          0\n",
      "Generosity       0\n",
      "Corruption       0\n",
      "dtype: int64\n"
     ]
    }
   ],
   "source": [
    "# Visa hur många som saknar värde i varje kolumn\n",
    "print(\"Saknade värden per kolumn:\\n\", df.isna().sum())\n",
    "\n",
    "# Ta bort rader med någon NaN\n",
    "df = df.dropna()"
   ]
  },
  {
   "cell_type": "markdown",
   "metadata": {},
   "source": [
    "# 📌 Cell 9  – Outlier-analys"
   ]
  },
  {
   "cell_type": "code",
   "execution_count": 14,
   "metadata": {},
   "outputs": [
    {
     "data": {
      "image/png": "[encoded data removed]",
      "text/plain": [
       "<Figure size 1200x600 with 1 Axes>"
      ]
     },
     "metadata": {},
     "output_type": "display_data"
    }
   ],
   "source": [
    "# 📦 Vi använder seaborn för att plotta boxplots och identifiera potentiella outliers\n",
    "plt.figure(figsize=(12, 6))\n",
    "sns.boxplot(data=df[['Happiness', 'GDP', 'SocialSupport', 'Freedom', 'Corruption', 'Generosity']])\n",
    "plt.title('Boxplot för att identifiera outliers')\n",
    "plt.xticks(rotation=45)\n",
    "plt.tight_layout()\n",
    "plt.show()\n"
   ]
  },
  {
   "cell_type": "markdown",
   "metadata": {},
   "source": [
    "## 🧠 Notering om outliers\n",
    "\n",
    "Vi har i denna analys valt att **inte ta bort outliers**, och det är ett medvetet beslut baserat på projektets syfte:\n",
    "\n",
    "- Datasetet representerar **världens alla länder**, där extrema värden (t.ex. högt BNP eller låg förväntad livslängd) inte är felaktiga – utan **viktiga faktorer som speglar verkliga globala skillnader**.\n",
    "- Vissa länder sticker ut – t.ex. *Luxemburg* med mycket hög BNP per capita, eller *Zimbabwe* med låg förväntad livslängd – men dessa outliers **tillför värdefull kontext** och **bidrar till analysens bredd**.\n",
    "- Eftersom vårt mål inte är att bygga en exakt prediktionsmodell, utan att **förstå mönster och samband**, så har vi valt att **behålla hela variationen i datan**.\n",
    "- Outliers hjälper oss att identifiera **intressanta avvikelser** och **skapa diskussion** i vår presentation.\n",
    "\n",
    "✨ Sammanfattningsvis: outliers i detta dataset är inte brus – de är en del av berättelsen."
   ]
  },
  {
   "cell_type": "markdown",
   "metadata": {},
   "source": [
    "## 📌 Cell 10 – Spara renad data\n",
    "Vi sparar en kopia av den renade datan till mappen `data/` så andra i gruppen kan använda den."
   ]
  },
  {
   "cell_type": "code",
   "execution_count": 15,
   "metadata": {},
   "outputs": [
    {
     "name": "stdout",
     "output_type": "stream",
     "text": [
      "✅ Renad data sparad som 'data/happiness_2019_cleaned.csv'\n"
     ]
    }
   ],
   "source": [
    "# Skapa mappen \"data\" om den inte finns\n",
    "import os\n",
    "os.makedirs(\"data\", exist_ok=True)\n",
    "\n",
    "# Spara CSV\n",
    "df.to_csv(\"data/happiness_2019_cleaned.csv\", index=False)\n",
    "\n",
    "print(\"✅ Renad data sparad som 'data/happiness_2019_cleaned.csv'\")"
   ]
  }
 ],
 "metadata": {
  "kernelspec": {
   "display_name": "venv",
   "language": "python",
   "name": "python3"
  },
  "language_info": {
   "codemirror_mode": {
    "name": "ipython",
    "version": 3
   },
   "file_extension": ".py",
   "mimetype": "text/x-python",
   "name": "python",
   "nbconvert_exporter": "python",
   "pygments_lexer": "ipython3",
   "version": "3.13.2"
  }
 },
 "nbformat": 4,
 "nbformat_minor": 2
}
